{
 "cells": [
  {
   "cell_type": "code",
   "execution_count": 2,
   "metadata": {},
   "outputs": [
    {
     "data": {
      "image/png": "[encoded data removed]",
      "text/latex": [
       "$\\displaystyle \\frac{- 2 t + 2 x}{p \\left(\\left(- t + x\\right)^{2} + 1\\right)^{2}}$"
      ],
      "text/plain": [
       "    -2⋅t + 2⋅x    \n",
       "──────────────────\n",
       "                 2\n",
       "  ⎛        2    ⎞ \n",
       "p⋅⎝(-t + x)  + 1⎠ "
      ]
     },
     "execution_count": 2,
     "metadata": {},
     "output_type": "execute_result"
    }
   ],
   "source": [
    "import sympy as sym\n",
    "p, x, t = sym.symbols('p x t')\n",
    "sym.init_printing(use_unicode = True)\n",
    "sym.diff((p*(1 + (x - t)**2))**-1, t)\n"
   ]
  },
  {
   "cell_type": "code",
   "execution_count": 3,
   "metadata": {},
   "outputs": [
    {
     "data": {
      "image/png": "[encoded data removed]",
      "text/latex": [
       "$\\displaystyle \\frac{2 \\left(\\frac{4 \\left(t - x\\right)^{2}}{\\left(t - x\\right)^{2} + 1} - 1\\right)}{p \\left(\\left(t - x\\right)^{2} + 1\\right)^{2}}$"
      ],
      "text/plain": [
       "  ⎛          2     ⎞\n",
       "  ⎜ 4⋅(t - x)      ⎟\n",
       "2⋅⎜──────────── - 1⎟\n",
       "  ⎜       2        ⎟\n",
       "  ⎝(t - x)  + 1    ⎠\n",
       "────────────────────\n",
       "                 2  \n",
       "   ⎛       2    ⎞   \n",
       " p⋅⎝(t - x)  + 1⎠   "
      ]
     },
     "execution_count": 3,
     "metadata": {},
     "output_type": "execute_result"
    }
   ],
   "source": [
    "sym.diff((p*(1 + (x - t)**2))**-1, t, 2)"
   ]
  }
 ],
 "metadata": {
  "kernelspec": {
   "display_name": "Python 3",
   "language": "python",
   "name": "python3"
  },
  "language_info": {
   "codemirror_mode": {
    "name": "ipython",
    "version": 3
   },
   "file_extension": ".py",
   "mimetype": "text/x-python",
   "name": "python",
   "nbconvert_exporter": "python",
   "pygments_lexer": "ipython3",
   "version": "3.8.1"
  }
 },
 "nbformat": 4,
 "nbformat_minor": 4
}
