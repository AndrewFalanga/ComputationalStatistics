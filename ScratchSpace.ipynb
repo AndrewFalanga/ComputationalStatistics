{
 "cells": [
  {
   "cell_type": "code",
   "execution_count": 1,
   "metadata": {},
   "outputs": [
    {
     "data": {
      "text/latex": [
       "$\\displaystyle \\frac{2 p \\left(\\frac{4 \\left(t - x\\right)^{2}}{\\left(t - x\\right)^{2} + 1} - 1\\right)}{\\left(\\left(t - x\\right)^{2} + 1\\right)^{2}}$"
      ],
      "text/plain": [
       "2*p*(4*(t - x)**2/((t - x)**2 + 1) - 1)/((t - x)**2 + 1)**2"
      ]
     },
     "execution_count": 1,
     "metadata": {},
     "output_type": "execute_result"
    }
   ],
   "source": [
    "import sympy as sym\n",
    "p, x, t = sym.symbols('p x t')\n",
    "sym.diff(p*(1 + (x - t)**2)**-1, t,t)"
   ]
  },
  {
   "cell_type": "code",
   "execution_count": 13,
   "metadata": {},
   "outputs": [
    {
     "data": {
      "text/latex": [
       "$\\displaystyle - \\frac{2 t - 2 x}{\\left(- t + x\\right)^{2} + 1}$"
      ],
      "text/plain": [
       "-(2*t - 2*x)/((-t + x)**2 + 1)"
      ]
     },
     "execution_count": 13,
     "metadata": {},
     "output_type": "execute_result"
    }
   ],
   "source": [
    "sym.diff(-1*  sym.log(1 + (x-t)**2), t)"
   ]
  },
  {
   "cell_type": "code",
   "execution_count": 11,
   "metadata": {},
   "outputs": [
    {
     "data": {
      "text/latex": [
       "$\\displaystyle \\frac{2 \\left(\\frac{2 \\left(t - x\\right)^{2}}{\\left(t - x\\right)^{2} + 1} - 1\\right)}{\\left(t - x\\right)^{2} + 1}$"
      ],
      "text/plain": [
       "2*(2*(t - x)**2/((t - x)**2 + 1) - 1)/((t - x)**2 + 1)"
      ]
     },
     "execution_count": 11,
     "metadata": {},
     "output_type": "execute_result"
    }
   ],
   "source": [
    "sym.diff(-1*sym.log(1 + (x-t)**2), t, t)"
   ]
  },
  {
   "cell_type": "code",
   "execution_count": 3,
   "metadata": {},
   "outputs": [
    {
     "data": {
      "text/latex": [
       "$\\displaystyle \\frac{-5 + \\frac{2}{x}}{x^{3}}$"
      ],
      "text/plain": [
       "(-5 + 2/x)/x**3"
      ]
     },
     "execution_count": 3,
     "metadata": {},
     "output_type": "execute_result"
    }
   ],
   "source": [
    "sym.diff(1/(3*x**2) - 5/(2*x),x,x)"
   ]
  }
 ],
 "metadata": {
  "kernelspec": {
   "display_name": "Python 3",
   "language": "python",
   "name": "python3"
  },
  "language_info": {
   "codemirror_mode": {
    "name": "ipython",
    "version": 3
   },
   "file_extension": ".py",
   "mimetype": "text/x-python",
   "name": "python",
   "nbconvert_exporter": "python",
   "pygments_lexer": "ipython3",
   "version": "3.8.1"
  }
 },
 "nbformat": 4,
 "nbformat_minor": 4
}
